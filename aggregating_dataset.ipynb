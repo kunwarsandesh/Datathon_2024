{
 "cells": [
  {
   "cell_type": "code",
   "execution_count": null,
   "metadata": {},
   "outputs": [],
   "source": []
  },
  {
   "cell_type": "markdown",
   "metadata": {},
   "source": [
    "# Ensure 'smasvaedi' is treated as a string, then remove the '.0' suffix\n",
    "dwellings_df['smasvaedi'] = dwellings_df['smasvaedi'].astype(str).str.replace('.0', '', regex=False)\n",
    "\n",
    "population_df['smasvaedi'] = population_df['smasvaedi'].astype(str).str.zfill(4)\n",
    "dwellings_df['smasvaedi'] = dwellings_df['smasvaedi'].astype(str).str.zfill(4)\n",
    "all_dwellings = dwellings_df[dwellings_df['framvinda'] == \"Fullbúið\"].groupby('smasvaedi')['Fjöldi'].sum().reset_index()\n",
    "\n",
    "\n",
    "# Ensure that both 'fid' and 'smasvaedi' are strings and zero-padded to match each other.\n",
    "# Convert 'fid' to string and pad with zeros if necessary to match the format of 'smasvaedi'.\n",
    "small_areas_gdf['fid'] = small_areas_gdf['fid'].astype(str).str.zfill(4)\n",
    "\n",
    "# Continue with the rest of your operations\n",
    "all_dwellings = dwellings_df[dwellings_df['framvinda'] == \"Fullbúið\"].groupby('smasvaedi')['Fjöldi'].sum().reset_index()\n",
    "\n",
    "# Ensure 'fid' in the GeoDataFrame is also a string\n",
    "small_areas_gdf['fid'] = small_areas_gdf['fid'].astype(str)\n",
    "\n",
    "\n",
    "# Perform the merge\n",
    "all_dwellings_smallarea = pd.merge(\n",
    "    small_areas_gdf, \n",
    "    all_dwellings, \n",
    "    left_on='fid', \n",
    "    right_on='smasvaedi', \n",
    "    how='left'\n",
    ")\n",
    "\n",
    "\n",
    "\n",
    "# Fill NaN values using .loc to target specific rows\n",
    "all_dwellings_smallarea.loc[all_dwellings_smallarea['smasvaedi'].isna(), 'smasvaedi'] = all_dwellings_smallarea['fid']\n",
    "\n",
    "\n",
    "# Convert 'smasvaedi' to string, just to maintain consistency with other string identifiers\n",
    "all_dwellings_smallarea['smasvaedi'] = all_dwellings_smallarea['smasvaedi'].astype(str)\n",
    "\n",
    "# Inspect the merged dataset \n",
    "print(all_dwellings_smallarea.head())\n",
    "\n",
    "\n"
   ]
  }
 ],
 "metadata": {
  "kernelspec": {
   "display_name": "Python 3",
   "language": "python",
   "name": "python3"
  },
  "language_info": {
   "name": "python",
   "version": "3.12.7"
  }
 },
 "nbformat": 4,
 "nbformat_minor": 2
}
