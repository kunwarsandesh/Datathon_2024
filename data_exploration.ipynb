{
 "cells": [
  {
   "cell_type": "code",
   "execution_count": 89,
   "metadata": {},
   "outputs": [
    {
     "name": "stderr",
     "output_type": "stream",
     "text": [
      "6574.55s - pydevd: Sending message related to process being replaced timed-out after 5 seconds\n"
     ]
    },
    {
     "name": "stdout",
     "output_type": "stream",
     "text": [
      "Requirement already satisfied: geopandas in ./.conda/lib/python3.12/site-packages (1.0.1)\n",
      "Requirement already satisfied: numpy>=1.22 in /home/codespace/.local/lib/python3.12/site-packages (from geopandas) (2.1.1)\n",
      "Requirement already satisfied: pyogrio>=0.7.2 in ./.conda/lib/python3.12/site-packages (from geopandas) (0.10.0)\n",
      "Requirement already satisfied: packaging in /home/codespace/.local/lib/python3.12/site-packages (from geopandas) (24.1)\n",
      "Requirement already satisfied: pandas>=1.4.0 in /home/codespace/.local/lib/python3.12/site-packages (from geopandas) (2.2.3)\n",
      "Requirement already satisfied: pyproj>=3.3.0 in ./.conda/lib/python3.12/site-packages (from geopandas) (3.7.0)\n",
      "Requirement already satisfied: shapely>=2.0.0 in ./.conda/lib/python3.12/site-packages (from geopandas) (2.0.6)\n",
      "Requirement already satisfied: python-dateutil>=2.8.2 in /home/codespace/.local/lib/python3.12/site-packages (from pandas>=1.4.0->geopandas) (2.9.0.post0)\n",
      "Requirement already satisfied: pytz>=2020.1 in /home/codespace/.local/lib/python3.12/site-packages (from pandas>=1.4.0->geopandas) (2024.2)\n",
      "Requirement already satisfied: tzdata>=2022.7 in /home/codespace/.local/lib/python3.12/site-packages (from pandas>=1.4.0->geopandas) (2024.2)\n",
      "Requirement already satisfied: certifi in /home/codespace/.local/lib/python3.12/site-packages (from pyogrio>=0.7.2->geopandas) (2024.8.30)\n",
      "Requirement already satisfied: six>=1.5 in /home/codespace/.local/lib/python3.12/site-packages (from python-dateutil>=2.8.2->pandas>=1.4.0->geopandas) (1.16.0)\n",
      "Note: you may need to restart the kernel to use updated packages.\n"
     ]
    }
   ],
   "source": [
    "%pip install geopandas\n",
    "import pandas as pd\n",
    "import geopandas as gpd\n",
    "\n",
    "# Load GeoJSON data\n",
    "small_areas_gdf = gpd.read_file('/workspaces/Datathon_2024/data/smasvaedi/smasvaedi_2021.json')\n",
    "city_lane_gdf = gpd.read_file('/workspaces/Datathon_2024/data/geojson_files/cityline_2025.geojson')\n",
    "\n",
    "# Load CSV data\n",
    "employed_df = pd.read_csv('/workspaces/Datathon_2024/data/num_of_people_working/fjoldi_starfandi.csv')\n",
    "income_decile_df = pd.read_csv('data/income_data/tekjutiundir.csv')\n",
    "population_df = pd.read_csv('/workspaces/Datathon_2024/data/num_of_residents/ibuafjoldi.csv')\n",
    "dwellings_df = pd.read_csv('data/dwellings/ibudir.csv')\n",
    "construction_sites_df = pd.read_csv('/workspaces/Datathon_2024/data/hms_lodir/lodir.csv')  #wait for new data\n",
    "\n"
   ]
  },
  {
   "cell_type": "code",
   "execution_count": 93,
   "metadata": {},
   "outputs": [
    {
     "name": "stdout",
     "output_type": "stream",
     "text": [
      "155\n",
      "['0101', '0102', '0103', '0104', '0201', '0202', '0203', '0204', '0205', '0206', '0301', '0302', '0501', '0303', '0304', '0401', '0402', '0403', '0404', '0405', '0502', '0503', '0504', '0601', '0602', '1402', '0604', '0606', '0701', '0702', '0703', '0704', '0706', '0707', '0708', '0801', '0802', '0803', '0804', '0805', '0806', '0807', '1203', '0901', '0902', '0903', '0904', '1705', '0905', '1003', '1004', '1005', '1006', '1103', '1104', '1201', '1706', '1204', '1205', '1206', '1301', '1801', '1302', '1303', '1403', '1404', '1501', '1502', '1503', '1504', '2004', '1601', '1602', '1603', '2005', '1701', '1702', '1703', '1704', '1802', '1807', '1808', '1811', '2006', '1901', '1904', '2003', '2103', '2104', '2105', '2106', '2201', '2202', '2205', '2301', '2302', '2303', '2401', '2402', '2403', '1809', '1806', '1202', '1804', '1903', '1902', '2007', '2001', '2002', '2102', '2101', '2203', '2204', '0207', '0208', '0605', '1002', '2406', '2407', '2404', '2405', '1001', '1102', '1305', '1101', '1304', '1401', '1803', '1810', '1805', '0705', '0603', '0020', '0035', '0018', '0022', '0013', '0034', '0033', '0026', '0048', '0186', '0019', '0011', '0042', '0039', '0053', '0024', '0176', '0004', '0192', '0060', '0028', '0043', '0037']\n"
     ]
    }
   ],
   "source": [
    "# Inspect GeoJSON data\n",
    "# Select the necessary columns\n",
    "smasvaedi_filtered = small_areas_gdf[['smsv', 'smsv_label_en', 'geometry']]\n",
    "\n",
    "# Filter rows where nuts3 is '001'\n",
    "smasvaedi_filtered = smasvaedi_filtered[small_areas_gdf['nuts3'] == '001']\n",
    "\n",
    "#change smsv to int\n",
    "smasvaedi_filtered['smsv'] = smasvaedi_filtered['smsv'].astype(str)\n",
    "#change label to string\n",
    "smasvaedi_filtered['smsv_label_en'] = smasvaedi_filtered['smsv_label_en'].astype(str)\n",
    "\n",
    "\"\"\"\n",
    "#check data types for each column\n",
    "print(smasvaedi_filtered.dtypes)\n",
    "\n",
    "#count no. of rows and columns\n",
    "print(smasvaedi_filtered.shape)\n",
    "\n",
    "print(smasvaedi_filtered.head())\n",
    "\"\"\"\n",
    "\n",
    "#get all the unique smsv values and save them in an array\n",
    "smsv_arr = smasvaedi_filtered['smsv'].unique()\n",
    "\n",
    "# Create a new list with the additional numbers\n",
    "new_numbers =['0020' ,'0035', '0018', '0022', '0013' ,'0034', '0033' ,'0026' ,'0048' ,'0186','0019' , '0011' ,'0042', '0039', '0053' ,'0024', '0176', '0004', '0192','0060', '0028', '0043' ,'0037']\n",
    "\n",
    "# Convert smsv_arr to a list\n",
    "smsv_arr = smsv_arr.tolist()\n",
    "\n",
    "# Extend the smsv_arr list with the new numbers (more efficient than append for large lists)\n",
    "smsv_arr.extend(new_numbers)\n",
    "\n",
    "\n",
    "\n",
    "\n",
    "\n",
    "print(len(smsv_arr))\n",
    "print(smsv_arr)\n",
    "\n",
    "\n",
    "\n",
    "\n"
   ]
  },
  {
   "cell_type": "code",
   "execution_count": 94,
   "metadata": {},
   "outputs": [
    {
     "name": "stdout",
     "output_type": "stream",
     "text": [
      "   id       name line                          geometry\n",
      "0   1  Vatnsendi  red   POINT (-2427839.86 9371544.592)\n",
      "1   2      Salir  red  POINT (-2431634.466 9372554.641)\n",
      "2   3     Lindir  red  POINT (-2434649.232 9374913.131)\n",
      "3   4  Smáralind  red  POINT (-2436330.938 9375856.527)\n",
      "4   5  Hamraborg  red   POINT (-2438828.887 9378030.44)\n",
      "id             int32\n",
      "name          object\n",
      "line          object\n",
      "geometry    geometry\n",
      "dtype: object\n"
     ]
    }
   ],
   "source": [
    "print(city_lane_gdf.head())\n",
    "#check each column and its data type\n",
    "print(city_lane_gdf.dtypes)"
   ]
  },
  {
   "cell_type": "code",
   "execution_count": 95,
   "metadata": {},
   "outputs": [],
   "source": [
    "# Rename 'smasvaedi' to 'smsv' if not already done\n",
    "employed_df.rename(columns={'smasvaedi': 'smsv'}, inplace=True)\n",
    "\n",
    "#change smsv to int\n",
    "employed_df['smsv'] = employed_df['smsv'].astype(str).str.zfill(4)\n",
    "\n",
    "\n",
    "\n",
    "# Inspect CSV data\n",
    "#print(employed_df.head())\n",
    "\n",
    "#check each column and its data type\n",
    "#print(employed_df.dtypes)\n",
    "\n",
    "#check if smsv values from employed_df are in smsv_arr  if not then filter them out\n",
    "employed_df = employed_df[employed_df['smsv'].isin(smsv_arr)]\n",
    "\n",
    "\n"
   ]
  },
  {
   "cell_type": "code",
   "execution_count": 101,
   "metadata": {},
   "outputs": [
    {
     "name": "stdout",
     "output_type": "stream",
     "text": [
      "     ar  smsv  tekjutiund  fjoldi\n",
      "0  2008  0101           1      71\n",
      "1  2008  0101           2      54\n",
      "2  2008  0101           3      57\n",
      "3  2008  0101           4      69\n",
      "4  2008  0101           5      65\n"
     ]
    }
   ],
   "source": [
    "#change column name from smasvaedi to smsv\n",
    "income_decile_df.rename(columns={'smasvaedi': 'smsv'}, inplace=True)\n",
    "\n",
    "#change smsv to int\n",
    "income_decile_df['smsv'] = income_decile_df['smsv'].astype(str).str.zfill(4)\n",
    "\n",
    "#check if smsv values from income_decile_df are in smsv_arr  if not then filter them out\n",
    "income_decile_df = income_decile_df[income_decile_df['smsv'].isin(smsv_arr)]\n",
    "\n",
    "print(income_decile_df.head())\n",
    "\n",
    "\n",
    "\n"
   ]
  },
  {
   "cell_type": "code",
   "execution_count": 102,
   "metadata": {},
   "outputs": [
    {
     "name": "stdout",
     "output_type": "stream",
     "text": [
      "83414\n",
      "     ar  smsv  kyn aldursflokkur  fjoldi\n",
      "0  2011  0103    1       0-4 ára      38\n",
      "2  2014  0303    2       0-4 ára      40\n",
      "4  2010  2004    1       0-4 ára      59\n",
      "5  2009  1202    1       0-4 ára     123\n",
      "6  2019  1005    1       0-4 ára      38\n",
      "ar                int64\n",
      "smsv             object\n",
      "kyn               int64\n",
      "aldursflokkur    object\n",
      "fjoldi            int64\n",
      "dtype: object\n"
     ]
    }
   ],
   "source": [
    "\n",
    "\n",
    "#rename column name from smasvaedi to smsv\n",
    "population_df.rename(columns={'smasvaedi': 'smsv'}, inplace=True)\n",
    "\n",
    "population_df['smsv'] = population_df['smsv'].astype(str).str.zfill(4)\n",
    "\n",
    "#check if smsv values from population_df are in smsv_arr  if not then filter them out\n",
    "population_df = population_df[population_df['smsv'].isin(smsv_arr)]\n",
    "\n",
    "#len of population_df\n",
    "print(len(population_df))\n",
    "\n",
    "print(population_df.head())\n",
    "\n",
    "#check each column and its data type\n",
    "print(population_df.dtypes)\n"
   ]
  },
  {
   "cell_type": "code",
   "execution_count": 104,
   "metadata": {},
   "outputs": [
    {
     "name": "stdout",
     "output_type": "stream",
     "text": [
      "4312\n",
      "967\n",
      "     smsv  staerdarflokkur  fjherb  framvinda  fjoldi\n",
      "107  0004                1       0  Ófullbúið       1\n",
      "108  0004                1       1  Ófullbúið       1\n",
      "109  0004                1       1   Fullbúið      56\n",
      "110  0004                1       2  Ófullbúið       4\n",
      "111  0004                1       2   Fullbúið      40\n",
      "smsv               object\n",
      "staerdarflokkur     int64\n",
      "fjherb              int64\n",
      "framvinda          object\n",
      "fjoldi              int64\n",
      "dtype: object\n"
     ]
    }
   ],
   "source": [
    "dwellings_df = pd.read_csv('data/dwellings/ibudir.csv')\n",
    "# Ensure 'smasvaedi' is treated as a string, then remove the '.0' suffix\n",
    "dwellings_df['smasvaedi'] = dwellings_df['smasvaedi'].astype(str).str.replace('.0', '', regex=False)\n",
    "\n",
    "dwellings_df['smasvaedi'] = dwellings_df['smasvaedi'].astype(str).str.zfill(4)\n",
    "\n",
    "\n",
    "\n",
    "#convert staerdarflokkur , fjherb and fjöldi to int\n",
    "dwellings_df['staerdarflokkur'] = dwellings_df['staerdarflokkur'].astype(int)\n",
    "dwellings_df['fjherb'] = dwellings_df['fjherb'].astype(int)\n",
    "\n",
    "\n",
    "dwellings_df['fjoldi'] = dwellings_df['fjoldi'].astype(int)\n",
    "\n",
    "#rename column name from smasvaedi to smsv\n",
    "dwellings_df.rename(columns={'smasvaedi': 'smsv'}, inplace=True)\n",
    "\n",
    "#delete column 'svfnr' , 'fjherb' \n",
    "dwellings_df.drop(['svfnr'], axis=1, inplace=True)\n",
    "\n",
    "#print len\n",
    "print(len(dwellings_df))\n",
    "\n",
    "#check if smsv values from dwellings_df are in smsv_arr  if not then filter them out\n",
    "dwellings_df = dwellings_df[dwellings_df['smsv'].isin(smsv_arr)]\n",
    "\n",
    "\n",
    "#print len\n",
    "print(len(dwellings_df))\n",
    "\n",
    "\n",
    "print(dwellings_df.head())\n",
    "\n",
    "#check each column and its data type\n",
    "print(dwellings_df.dtypes)\n",
    "\n"
   ]
  },
  {
   "cell_type": "code",
   "execution_count": 110,
   "metadata": {},
   "outputs": [
    {
     "name": "stdout",
     "output_type": "stream",
     "text": [
      "197\n",
      "49\n",
      "  Tegundlóða                     Lóðasvæði                       Staða  smsv  \\\n",
      "0   Fjölbýli               Borgartún 34-36            Byggingarhæf lóð  0020   \n",
      "1   Fjölbýli         Breiðholt - Suðurfell  Þróunar- og framtíðarsvæði  0035   \n",
      "2   Fjölbýli                   Guðrúnartún  Þróunar- og framtíðarsvæði  0020   \n",
      "3   Fjölbýli  Heklureitur - Laugavegur 168            Byggingarhæf lóð  0018   \n",
      "4   Fjölbýli    Laugardalur - Borgartún 41            Byggingarhæf lóð  0022   \n",
      "\n",
      "    2023  2024   2025  2026  2027  2028  2029  2030  2031   2032   2033  \\\n",
      "0    0.0   0.0   51.0  51.0   0.0   0.0   0.0   0.0   0.0    0.0    0.0   \n",
      "1    0.0   0.0  125.0   0.0   0.0   0.0   0.0   0.0   0.0    0.0    0.0   \n",
      "2    0.0   0.0    0.0   0.0   0.0   0.0   0.0   0.0   0.0  100.0  100.0   \n",
      "3   80.0   0.0    0.0   0.0   0.0   0.0   0.0   0.0   0.0    0.0    0.0   \n",
      "4  115.0   0.0    0.0   0.0   0.0   0.0   0.0   0.0   0.0    0.0    0.0   \n",
      "\n",
      "   Samtals  \n",
      "0    102.0  \n",
      "1    125.0  \n",
      "2    200.0  \n",
      "3     80.0  \n",
      "4    115.0  \n"
     ]
    }
   ],
   "source": [
    "construction_sites_df = pd.read_csv('/workspaces/Datathon_2024/data/hms_lodir/lodir.csv')\n",
    "\n",
    "#rename column name from Smásvaædi to smsv\n",
    "construction_sites_df.rename(columns={'Smásvæði': 'smsv'}, inplace=True)\n",
    "\n",
    "#print len before\n",
    "print(len(construction_sites_df))\n",
    "\n",
    "#Ensure 'smasvaedi' is treated as a string, then remove the '.0' suffix\n",
    "construction_sites_df['smsv'] = construction_sites_df['smsv'].astype(str).str.replace('.0', '', regex=False)\n",
    "\n",
    "construction_sites_df['smsv'] = construction_sites_df['smsv'].astype(str).str.zfill(4)\n",
    "\n",
    "\n",
    "\n",
    "\n",
    "#filter out smsv values that are not in smsv_arr\n",
    "construction_sites_df = construction_sites_df[construction_sites_df['smsv'].isin(smsv_arr)]\n",
    "\n",
    "\n",
    "\n",
    "#delete column Sveitarfélag , Athugasemdir\n",
    "construction_sites_df.drop(['Sveitarfélag', 'Athugasemdir'], axis=1, inplace=True)\n",
    "\n",
    "print(len(construction_sites_df))\n",
    "\n",
    "print(construction_sites_df.head())\n"
   ]
  }
 ],
 "metadata": {
  "kernelspec": {
   "display_name": "Python 3",
   "language": "python",
   "name": "python3"
  },
  "language_info": {
   "codemirror_mode": {
    "name": "ipython",
    "version": 3
   },
   "file_extension": ".py",
   "mimetype": "text/x-python",
   "name": "python",
   "nbconvert_exporter": "python",
   "pygments_lexer": "ipython3",
   "version": "3.12.7"
  }
 },
 "nbformat": 4,
 "nbformat_minor": 2
}
